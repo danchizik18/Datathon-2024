{
 "cells": [
  {
   "cell_type": "markdown",
   "metadata": {
    "id": "bye3I8GU8X8l"
   },
   "source": [
    "## **Tarun Shah, Adam Tay, Sydney Dinh, & Dan Chizik---SFUSD Project Notebook**"
   ]
  },
  {
   "cell_type": "code",
   "execution_count": 2,
   "metadata": {},
   "outputs": [
    {
     "ename": "ModuleNotFoundError",
     "evalue": "No module named 'pandas'",
     "output_type": "error",
     "traceback": [
      "\u001b[0;31m---------------------------------------------------------------------------\u001b[0m",
      "\u001b[0;31mModuleNotFoundError\u001b[0m                       Traceback (most recent call last)",
      "Cell \u001b[0;32mIn[2], line 2\u001b[0m\n\u001b[1;32m      1\u001b[0m \u001b[38;5;66;03m#Import Packages\u001b[39;00m\n\u001b[0;32m----> 2\u001b[0m \u001b[38;5;28;01mimport\u001b[39;00m \u001b[38;5;21;01mpandas\u001b[39;00m \u001b[38;5;28;01mas\u001b[39;00m \u001b[38;5;21;01mpd\u001b[39;00m\n\u001b[1;32m      3\u001b[0m \u001b[38;5;28;01mfrom\u001b[39;00m \u001b[38;5;21;01msklearn\u001b[39;00m\u001b[38;5;21;01m.\u001b[39;00m\u001b[38;5;21;01mpreprocessing\u001b[39;00m \u001b[38;5;28;01mimport\u001b[39;00m StandardScaler\n\u001b[1;32m      4\u001b[0m \u001b[38;5;28;01mimport\u001b[39;00m \u001b[38;5;21;01mnumpy\u001b[39;00m \u001b[38;5;28;01mas\u001b[39;00m \u001b[38;5;21;01mnp\u001b[39;00m\n",
      "\u001b[0;31mModuleNotFoundError\u001b[0m: No module named 'pandas'"
     ]
    }
   ],
   "source": [
    "#Import Packages\n",
    "import pandas as pd\n",
    "from sklearn.preprocessing import StandardScaler\n",
    "import numpy as np\n",
    "import geopandas as gpd\n",
    "from geopy.distance import geodesic \n",
    "from pulp import LpProblem, LpVariable, lpSum, LpMaximize, LpAffineExpression\n",
    "import matplotlib.pyplot as plt"
   ]
  },
  {
   "cell_type": "code",
   "execution_count": 2,
   "metadata": {},
   "outputs": [],
   "source": [
    "#Load In Datasets\n",
    "application_data = pd.read_excel(\"AppReq.xlsx\")\n",
    "esaa_data = pd.read_excel(\"ESAA.xlsx\")\n",
    "seat_data = pd.read_excel(\"ReqPerSeat.xlsx\")"
   ]
  },
  {
   "cell_type": "code",
   "execution_count": 3,
   "metadata": {},
   "outputs": [],
   "source": [
    "#Clean Up Application Request Data and get Webster Subset\n",
    "application_data.dropna(subset=['Elementary Attendance Area'], inplace=True)\n",
    "application_data = application_data[application_data['RequestStatusReason'] != 'Clean up before DSG.']\n",
    "webster_area_applicants = application_data.loc[application_data['Elementary Attendance Area'].str.contains('Webster')]\n",
    "\n",
    "#Clean Up ESAA Data\n",
    "esaa_data.dropna(subset=['Geoid1'], inplace=True)\n",
    "\n",
    "#Clean Seat Data and get Webster Subset\n",
    "seat_data.rename(columns={column:seat_data.loc[1, column] for column in seat_data.columns}, inplace=True)\n",
    "seat_data.drop(index=[0, 1], inplace = True)\n",
    "webster_seats = seat_data[seat_data['School Name'].str.contains(\"Webster\")]\n"
   ]
  },
  {
   "cell_type": "code",
   "execution_count": null,
   "metadata": {},
   "outputs": [],
   "source": [
    "#Get Race Proportions Per Block\n",
    "def get_demographics(esaa_data):\n",
    "    esaa_data['Percent Asian'] = esaa_data['Total:!!Asian alone']/esaa_data['Total: (Population Race P3 Census 2020.csv)']\n",
    "    esaa_data['Percent American Indian'] = esaa_data['Total:!!American Indian and Alaska Native alone']/esaa_data['Total: (Population Race P3 Census 2020.csv)']\n",
    "    esaa_data['Percent Black'] = esaa_data['Total:!!Black or African American alone']/esaa_data['Total: (Population Race P3 Census 2020.csv)']\n",
    "    esaa_data['Percent Native Hawaiian'] = esaa_data['Total:!!Native Hawaiian and Other Pacific Islander alone']/esaa_data['Total: (Population Race P3 Census 2020.csv)']\n",
    "    esaa_data['Percent White'] = esaa_data['Total:!!White alone']/esaa_data['Total: (Population Race P3 Census 2020.csv)']\n",
    "    esaa_data['Percent Two+ Races'] = esaa_data['Total:!!Two or More Races']/esaa_data['Total: (Population Race P3 Census 2020.csv)']\n",
    "    esaa_data['Percent Other Race'] = esaa_data['Total:!!Some Other Race alone']/esaa_data['Total: (Population Race P3 Census 2020.csv)']\n",
    "\n",
    "get_demographics(esaa_data)\n",
    "webster_blocks = esaa_data.loc[1211:1277].drop(columns=['E_AA_NAME'])"
   ]
  },
  {
   "cell_type": "code",
   "execution_count": 5,
   "metadata": {},
   "outputs": [
    {
     "name": "stderr",
     "output_type": "stream",
     "text": [
      "/var/folders/0y/9fqdc3696gj8r7lwd7wtfngh0000gn/T/ipykernel_58355/1336849139.py:12: SettingWithCopyWarning: \n",
      "A value is trying to be set on a copy of a slice from a DataFrame.\n",
      "Try using .loc[row_indexer,col_indexer] = value instead\n",
      "\n",
      "See the caveats in the documentation: https://pandas.pydata.org/pandas-docs/stable/user_guide/indexing.html#returning-a-view-versus-a-copy\n",
      "  webster_area_applicants[new_attributes] = pd.DataFrame(mapped_values.tolist(), index=webster_area_applicants.index)\n",
      "/var/folders/0y/9fqdc3696gj8r7lwd7wtfngh0000gn/T/ipykernel_58355/1336849139.py:12: SettingWithCopyWarning: \n",
      "A value is trying to be set on a copy of a slice from a DataFrame.\n",
      "Try using .loc[row_indexer,col_indexer] = value instead\n",
      "\n",
      "See the caveats in the documentation: https://pandas.pydata.org/pandas-docs/stable/user_guide/indexing.html#returning-a-view-versus-a-copy\n",
      "  webster_area_applicants[new_attributes] = pd.DataFrame(mapped_values.tolist(), index=webster_area_applicants.index)\n",
      "/var/folders/0y/9fqdc3696gj8r7lwd7wtfngh0000gn/T/ipykernel_58355/1336849139.py:12: SettingWithCopyWarning: \n",
      "A value is trying to be set on a copy of a slice from a DataFrame.\n",
      "Try using .loc[row_indexer,col_indexer] = value instead\n",
      "\n",
      "See the caveats in the documentation: https://pandas.pydata.org/pandas-docs/stable/user_guide/indexing.html#returning-a-view-versus-a-copy\n",
      "  webster_area_applicants[new_attributes] = pd.DataFrame(mapped_values.tolist(), index=webster_area_applicants.index)\n",
      "/var/folders/0y/9fqdc3696gj8r7lwd7wtfngh0000gn/T/ipykernel_58355/1336849139.py:12: SettingWithCopyWarning: \n",
      "A value is trying to be set on a copy of a slice from a DataFrame.\n",
      "Try using .loc[row_indexer,col_indexer] = value instead\n",
      "\n",
      "See the caveats in the documentation: https://pandas.pydata.org/pandas-docs/stable/user_guide/indexing.html#returning-a-view-versus-a-copy\n",
      "  webster_area_applicants[new_attributes] = pd.DataFrame(mapped_values.tolist(), index=webster_area_applicants.index)\n",
      "/var/folders/0y/9fqdc3696gj8r7lwd7wtfngh0000gn/T/ipykernel_58355/1336849139.py:12: SettingWithCopyWarning: \n",
      "A value is trying to be set on a copy of a slice from a DataFrame.\n",
      "Try using .loc[row_indexer,col_indexer] = value instead\n",
      "\n",
      "See the caveats in the documentation: https://pandas.pydata.org/pandas-docs/stable/user_guide/indexing.html#returning-a-view-versus-a-copy\n",
      "  webster_area_applicants[new_attributes] = pd.DataFrame(mapped_values.tolist(), index=webster_area_applicants.index)\n",
      "/var/folders/0y/9fqdc3696gj8r7lwd7wtfngh0000gn/T/ipykernel_58355/1336849139.py:12: SettingWithCopyWarning: \n",
      "A value is trying to be set on a copy of a slice from a DataFrame.\n",
      "Try using .loc[row_indexer,col_indexer] = value instead\n",
      "\n",
      "See the caveats in the documentation: https://pandas.pydata.org/pandas-docs/stable/user_guide/indexing.html#returning-a-view-versus-a-copy\n",
      "  webster_area_applicants[new_attributes] = pd.DataFrame(mapped_values.tolist(), index=webster_area_applicants.index)\n",
      "/var/folders/0y/9fqdc3696gj8r7lwd7wtfngh0000gn/T/ipykernel_58355/1336849139.py:12: SettingWithCopyWarning: \n",
      "A value is trying to be set on a copy of a slice from a DataFrame.\n",
      "Try using .loc[row_indexer,col_indexer] = value instead\n",
      "\n",
      "See the caveats in the documentation: https://pandas.pydata.org/pandas-docs/stable/user_guide/indexing.html#returning-a-view-versus-a-copy\n",
      "  webster_area_applicants[new_attributes] = pd.DataFrame(mapped_values.tolist(), index=webster_area_applicants.index)\n",
      "/var/folders/0y/9fqdc3696gj8r7lwd7wtfngh0000gn/T/ipykernel_58355/1336849139.py:12: SettingWithCopyWarning: \n",
      "A value is trying to be set on a copy of a slice from a DataFrame.\n",
      "Try using .loc[row_indexer,col_indexer] = value instead\n",
      "\n",
      "See the caveats in the documentation: https://pandas.pydata.org/pandas-docs/stable/user_guide/indexing.html#returning-a-view-versus-a-copy\n",
      "  webster_area_applicants[new_attributes] = pd.DataFrame(mapped_values.tolist(), index=webster_area_applicants.index)\n"
     ]
    }
   ],
   "source": [
    "#Map Block Attributes onto Applicants\n",
    "attributes = ['Median HH Income', 'Percent Asian', 'Percent American Indian', 'Percent Black', 'Percent Native Hawaiian', 'Percent White', 'Percent Two+ Races', 'Percent Other Race']\n",
    "new_attributes = [\"Block \" + attribute for attribute in attributes]\n",
    "\n",
    "def get_attributes(block_id):\n",
    "    match =  esaa_data[esaa_data['Geoid1'] == block_id][attributes]\n",
    "    if match.empty:\n",
    "        return [None] * len(attributes)  \n",
    "    return match.iloc[0].values\n",
    "\n",
    "mapped_values = webster_area_applicants['Block Group'].apply(get_attributes) \n",
    "webster_area_applicants[new_attributes] = pd.DataFrame(mapped_values.tolist(), index=webster_area_applicants.index)\n",
    "\n",
    "#Get Number of Applicants for Each Block\n",
    "webster_blocks['Number of Applicants'] = webster_blocks['Geoid1'].apply(lambda x: len(webster_area_applicants[webster_area_applicants['Block Group'] == x]))"
   ]
  },
  {
   "cell_type": "code",
   "execution_count": 6,
   "metadata": {},
   "outputs": [
    {
     "name": "stderr",
     "output_type": "stream",
     "text": [
      "/var/folders/0y/9fqdc3696gj8r7lwd7wtfngh0000gn/T/ipykernel_58355/1937595558.py:6: UserWarning: Geometry is in a geographic CRS. Results from 'centroid' are likely incorrect. Use 'GeoSeries.to_crs()' to re-project geometries to a projected CRS before this operation.\n",
      "\n",
      "  gdf['longitude'] = gdf.geometry.centroid.x\n",
      "/var/folders/0y/9fqdc3696gj8r7lwd7wtfngh0000gn/T/ipykernel_58355/1937595558.py:7: UserWarning: Geometry is in a geographic CRS. Results from 'centroid' are likely incorrect. Use 'GeoSeries.to_crs()' to re-project geometries to a projected CRS before this operation.\n",
      "\n",
      "  gdf['latitude'] = gdf.geometry.centroid.y\n"
     ]
    }
   ],
   "source": [
    "#Get Latitude and Longitude for each Block Proup \n",
    "#Compute Distance from Webster\n",
    "shapefile_path = \"tl_2024_06_bg/tl_2024_06_bg.shp\"  \n",
    "gdf = gpd.read_file(shapefile_path)\n",
    "\n",
    "gdf['longitude'] = gdf.geometry.centroid.x\n",
    "gdf['latitude'] = gdf.geometry.centroid.y\n",
    "\n",
    "webster_blocks.rename(columns={\"Geoid1\": \"GEOID\"}, inplace=True)\n",
    "webster_blocks['GEOID'] = webster_blocks['GEOID'].apply(lambda id: f\"0{str(id).split(\".\")[0]}\")\n",
    "\n",
    "gdf_subset = gdf[['GEOID', 'longitude', 'latitude']]\n",
    "webster_blocks = webster_blocks.merge(gdf_subset, on='GEOID', how='left')\n",
    "webster_blocks['coordinates'] = webster_blocks.apply(lambda x: (x.latitude, x.longitude), axis=1)\n",
    "webster_coordinates = (37.76055635634658, -122.39584425389323)\n",
    "webster_blocks['distance'] = webster_blocks.apply(lambda x: geodesic(x.coordinates, webster_coordinates).miles, axis=1)\n"
   ]
  },
  {
   "cell_type": "code",
   "execution_count": 7,
   "metadata": {},
   "outputs": [],
   "source": [
    "#Use Shannon's Diversity Index to Calculate Single Metrix For Diversity\n",
    "def shannon_diversity(row):\n",
    "    proportions = row.filter(like='Percent').astype(float).values\n",
    "    proportions = proportions[proportions > 0] \n",
    "    return -np.sum(proportions * np.log(proportions))\n",
    "\n",
    "webster_blocks['diversity'] = webster_blocks.apply(shannon_diversity, axis=1)\n",
    "\n",
    "#Replace Empty Median Income Values with Attendance Area Average\n",
    "mean_income = webster_blocks.dropna(subset=['Median HH Income'])['Median HH Income'].mean()\n",
    "webster_blocks['Median HH Income'] = webster_blocks['Median HH Income'].fillna(mean_income)"
   ]
  },
  {
   "cell_type": "code",
   "execution_count": 16,
   "metadata": {},
   "outputs": [
    {
     "name": "stderr",
     "output_type": "stream",
     "text": [
      "/var/folders/0y/9fqdc3696gj8r7lwd7wtfngh0000gn/T/ipykernel_58355/1753026587.py:6: SettingWithCopyWarning: \n",
      "A value is trying to be set on a copy of a slice from a DataFrame.\n",
      "Try using .loc[row_indexer,col_indexer] = value instead\n",
      "\n",
      "See the caveats in the documentation: https://pandas.pydata.org/pandas-docs/stable/user_guide/indexing.html#returning-a-view-versus-a-copy\n",
      "  training_data[column] = scaler.fit_transform(training_data[[column]])\n",
      "/var/folders/0y/9fqdc3696gj8r7lwd7wtfngh0000gn/T/ipykernel_58355/1753026587.py:6: SettingWithCopyWarning: \n",
      "A value is trying to be set on a copy of a slice from a DataFrame.\n",
      "Try using .loc[row_indexer,col_indexer] = value instead\n",
      "\n",
      "See the caveats in the documentation: https://pandas.pydata.org/pandas-docs/stable/user_guide/indexing.html#returning-a-view-versus-a-copy\n",
      "  training_data[column] = scaler.fit_transform(training_data[[column]])\n"
     ]
    }
   ],
   "source": [
    "#Normalize Values for Optimization Algorithm\n",
    "training_data = webster_blocks[['Median HH Income', 'distance', 'diversity', 'Number of Applicants', 'Total: (Population Race P8 Census 2020.csv)']]\n",
    "\n",
    "scaler = StandardScaler()\n",
    "for column in ['Median HH Income', 'distance']:\n",
    "    training_data[column] = scaler.fit_transform(training_data[[column]])"
   ]
  },
  {
   "cell_type": "code",
   "execution_count": 22,
   "metadata": {},
   "outputs": [
    {
     "name": "stdout",
     "output_type": "stream",
     "text": [
      "Welcome to the CBC MILP Solver \n",
      "Version: 2.10.3 \n",
      "Build Date: Dec 15 2019 \n",
      "\n",
      "command line - /Users/tarunshah/Desktop/Venv VS/.venv/lib/python3.12/site-packages/pulp/solverdir/cbc/osx/64/cbc /var/folders/0y/9fqdc3696gj8r7lwd7wtfngh0000gn/T/651a11045a514bf9a79a00169fb2a445-pulp.mps -max -timeMode elapsed -branch -printingOptions all -solution /var/folders/0y/9fqdc3696gj8r7lwd7wtfngh0000gn/T/651a11045a514bf9a79a00169fb2a445-pulp.sol (default strategy 1)\n",
      "At line 2 NAME          MODEL\n",
      "At line 3 ROWS\n",
      "At line 12 COLUMNS\n",
      "At line 583 RHS\n",
      "At line 591 BOUNDS\n",
      "At line 659 ENDATA\n",
      "Problem MODEL has 7 rows, 70 columns and 367 elements\n",
      "Coin0008I MODEL read with 0 errors\n",
      "Option for timeMode changed from cpu to elapsed\n",
      "Continuous objective value is 23.5689 - 0.00 seconds\n",
      "Cgl0004I processed model has 6 rows, 68 columns (66 integer (66 of which binary)) and 328 elements\n",
      "Cbc0038I Initial state - 2 integers unsatisfied sum - 0.778065\n",
      "Cbc0038I Pass   1: suminf.    0.00000 (0) obj. 259.958 iterations 4\n",
      "Cbc0038I Solution found of 259.958\n",
      "Cbc0038I Relaxing continuous gives 259.958\n",
      "Cbc0038I Before mini branch and bound, 64 integers at bound fixed and 0 continuous\n",
      "Cbc0038I Full problem 6 rows 68 columns, reduced to 4 rows 4 columns\n",
      "Cbc0038I Mini branch and bound improved solution from 259.958 to 14.9628 (0.00 seconds)\n",
      "Cbc0038I Round again with cutoff of 11.1097\n",
      "Cbc0038I Pass   2: suminf.    0.14217 (1) obj. 11.1097 iterations 1\n",
      "Cbc0038I Pass   3: suminf.    0.17092 (1) obj. 11.1097 iterations 1\n",
      "Cbc0038I Pass   4: suminf.    1.18813 (3) obj. 11.1097 iterations 21\n",
      "Cbc0038I Pass   5: suminf.    0.36497 (1) obj. 11.1097 iterations 4\n",
      "Cbc0038I Pass   6: suminf.    0.34406 (1) obj. 11.1097 iterations 1\n",
      "Cbc0038I Pass   7: suminf.    0.29557 (2) obj. 11.1097 iterations 9\n",
      "Cbc0038I Pass   8: suminf.    0.16734 (2) obj. 11.1097 iterations 3\n",
      "Cbc0038I Pass   9: suminf.    0.16734 (2) obj. 11.1097 iterations 0\n",
      "Cbc0038I Pass  10: suminf.    0.50317 (2) obj. 11.1097 iterations 4\n",
      "Cbc0038I Pass  11: suminf.    0.50317 (2) obj. 11.1097 iterations 1\n",
      "Cbc0038I Pass  12: suminf.    0.50889 (2) obj. 11.1097 iterations 2\n",
      "Cbc0038I Pass  13: suminf.    0.26550 (2) obj. 11.1097 iterations 19\n",
      "Cbc0038I Pass  14: suminf.    0.08834 (1) obj. 11.1097 iterations 2\n",
      "Cbc0038I Pass  15: suminf.    0.09596 (1) obj. 11.1097 iterations 1\n",
      "Cbc0038I Pass  16: suminf.    0.53388 (3) obj. 11.1097 iterations 23\n",
      "Cbc0038I Pass  17: suminf.    0.10529 (2) obj. 11.1097 iterations 4\n",
      "Cbc0038I Pass  18: suminf.    1.13751 (3) obj. 11.1097 iterations 6\n",
      "Cbc0038I Pass  19: suminf.    0.61507 (3) obj. 11.1097 iterations 3\n",
      "Cbc0038I Pass  20: suminf.    0.61507 (3) obj. 11.1097 iterations 1\n",
      "Cbc0038I Pass  21: suminf.    0.25879 (2) obj. 11.1097 iterations 3\n",
      "Cbc0038I Pass  22: suminf.    0.25879 (2) obj. 11.1097 iterations 1\n",
      "Cbc0038I Pass  23: suminf.    0.18017 (2) obj. 11.1097 iterations 10\n",
      "Cbc0038I Pass  24: suminf.    0.47636 (2) obj. 11.1097 iterations 3\n",
      "Cbc0038I Pass  25: suminf.    0.47636 (2) obj. 11.1097 iterations 1\n",
      "Cbc0038I Pass  26: suminf.    0.18017 (2) obj. 11.1097 iterations 2\n",
      "Cbc0038I Pass  27: suminf.    0.18017 (2) obj. 11.1097 iterations 1\n",
      "Cbc0038I Pass  28: suminf.    0.05447 (2) obj. 11.1097 iterations 22\n",
      "Cbc0038I Pass  29: suminf.    0.79136 (2) obj. 11.1097 iterations 7\n",
      "Cbc0038I Pass  30: suminf.    0.29316 (1) obj. 11.1097 iterations 1\n",
      "Cbc0038I Pass  31: suminf.    0.30659 (1) obj. 11.1097 iterations 1\n",
      "Cbc0038I No solution found this major pass\n",
      "Cbc0038I Before mini branch and bound, 18 integers at bound fixed and 0 continuous\n",
      "Cbc0038I Full problem 6 rows 68 columns, reduced to 6 rows 50 columns\n",
      "Cbc0038I Mini branch and bound improved solution from 14.9628 to -5.7318 (0.02 seconds)\n",
      "Cbc0038I Round again with cutoff of -9.29922\n",
      "Cbc0038I Pass  31: suminf.    0.15383 (1) obj. -9.29922 iterations 0\n",
      "Cbc0038I Pass  32: suminf.    0.15940 (1) obj. -9.29922 iterations 1\n",
      "Cbc0038I Pass  33: suminf.    0.37977 (2) obj. -9.29922 iterations 14\n",
      "Cbc0038I Pass  34: suminf.    0.27509 (3) obj. -9.29922 iterations 2\n",
      "Cbc0038I Pass  35: suminf.    0.52014 (2) obj. -9.29922 iterations 2\n",
      "Cbc0038I Pass  36: suminf.    0.36062 (1) obj. -9.29922 iterations 3\n",
      "Cbc0038I Pass  37: suminf.    0.36142 (1) obj. -9.29922 iterations 1\n",
      "Cbc0038I Pass  38: suminf.    0.73247 (3) obj. -9.29922 iterations 16\n",
      "Cbc0038I Pass  39: suminf.    0.73247 (3) obj. -9.29922 iterations 1\n",
      "Cbc0038I Pass  40: suminf.    0.74306 (3) obj. -9.29922 iterations 3\n",
      "Cbc0038I Pass  41: suminf.    0.69483 (3) obj. -9.29922 iterations 2\n",
      "Cbc0038I Pass  42: suminf.    0.53401 (2) obj. -9.29922 iterations 4\n",
      "Cbc0038I Pass  43: suminf.    0.38751 (2) obj. -9.29922 iterations 3\n",
      "Cbc0038I Pass  44: suminf.    0.47256 (2) obj. -9.29922 iterations 3\n",
      "Cbc0038I Pass  45: suminf.    0.75256 (3) obj. -9.29922 iterations 11\n",
      "Cbc0038I Pass  46: suminf.    0.42000 (2) obj. -9.29922 iterations 3\n",
      "Cbc0038I Pass  47: suminf.    0.31669 (2) obj. -9.29922 iterations 3\n",
      "Cbc0038I Pass  48: suminf.    0.36993 (2) obj. -9.29922 iterations 3\n",
      "Cbc0038I Pass  49: suminf.    0.48430 (3) obj. -9.29922 iterations 16\n",
      "Cbc0038I Pass  50: suminf.    0.10130 (2) obj. -9.29922 iterations 4\n",
      "Cbc0038I Pass  51: suminf.    0.68124 (3) obj. -9.29922 iterations 4\n",
      "Cbc0038I Pass  52: suminf.    0.56171 (3) obj. -9.29922 iterations 3\n",
      "Cbc0038I Pass  53: suminf.    0.50738 (2) obj. -9.29922 iterations 3\n",
      "Cbc0038I Pass  54: suminf.    0.36305 (2) obj. -9.29922 iterations 2\n",
      "Cbc0038I Pass  55: suminf.    0.69893 (2) obj. -9.29922 iterations 12\n",
      "Cbc0038I Pass  56: suminf.    0.75527 (2) obj. -9.29922 iterations 4\n",
      "Cbc0038I Pass  57: suminf.    0.68700 (2) obj. -9.29922 iterations 1\n",
      "Cbc0038I Pass  58: suminf.    0.75527 (2) obj. -9.29922 iterations 3\n",
      "Cbc0038I Pass  59: suminf.    0.89525 (3) obj. -9.29922 iterations 14\n",
      "Cbc0038I Pass  60: suminf.    0.80973 (3) obj. -9.29922 iterations 3\n",
      "Cbc0038I No solution found this major pass\n",
      "Cbc0038I Before mini branch and bound, 19 integers at bound fixed and 0 continuous\n",
      "Cbc0038I Full problem 6 rows 68 columns, reduced to 6 rows 49 columns\n",
      "Cbc0038I Mini branch and bound improved solution from -5.7318 to -9.45479 (0.02 seconds)\n",
      "Cbc0038I Round again with cutoff of -13.689\n",
      "Cbc0038I Pass  60: suminf.    0.15634 (1) obj. -13.689 iterations 0\n",
      "Cbc0038I Pass  61: suminf.    0.15692 (1) obj. -13.689 iterations 1\n",
      "Cbc0038I Pass  62: suminf.    0.56426 (2) obj. -13.689 iterations 15\n",
      "Cbc0038I Pass  63: suminf.    0.56426 (2) obj. -13.689 iterations 1\n",
      "Cbc0038I Pass  64: suminf.    0.68439 (3) obj. -13.689 iterations 3\n",
      "Cbc0038I Pass  65: suminf.    0.68439 (3) obj. -13.689 iterations 1\n",
      "Cbc0038I Pass  66: suminf.    0.56426 (2) obj. -13.689 iterations 4\n",
      "Cbc0038I Pass  67: suminf.    0.71322 (3) obj. -13.689 iterations 14\n",
      "Cbc0038I Pass  68: suminf.    0.71322 (3) obj. -13.689 iterations 0\n",
      "Cbc0038I Pass  69: suminf.    0.51952 (2) obj. -13.689 iterations 4\n",
      "Cbc0038I Pass  70: suminf.    0.39470 (2) obj. -13.689 iterations 2\n",
      "Cbc0038I Pass  71: suminf.    0.87682 (2) obj. -13.689 iterations 4\n",
      "Cbc0038I Pass  72: suminf.    0.84141 (2) obj. -13.689 iterations 1\n",
      "Cbc0038I Pass  73: suminf.    0.87682 (2) obj. -13.689 iterations 3\n",
      "Cbc0038I Pass  74: suminf.    0.83331 (3) obj. -13.689 iterations 7\n",
      "Cbc0038I Pass  75: suminf.    0.72471 (3) obj. -13.689 iterations 1\n",
      "Cbc0038I Pass  76: suminf.    0.59561 (2) obj. -13.689 iterations 3\n",
      "Cbc0038I Pass  77: suminf.    0.50402 (2) obj. -13.689 iterations 3\n",
      "Cbc0038I Pass  78: suminf.    0.55973 (2) obj. -13.689 iterations 3\n",
      "Cbc0038I Pass  79: suminf.    0.50740 (3) obj. -13.689 iterations 22\n",
      "Cbc0038I Pass  80: suminf.    0.50740 (3) obj. -13.689 iterations 0\n",
      "Cbc0038I Pass  81: suminf.    0.85266 (2) obj. -13.689 iterations 6\n",
      "Cbc0038I Pass  82: suminf.    0.85266 (2) obj. -13.689 iterations 1\n",
      "Cbc0038I Pass  83: suminf.    0.95736 (2) obj. -13.689 iterations 3\n",
      "Cbc0038I Pass  84: suminf.    0.94806 (2) obj. -13.689 iterations 2\n",
      "Cbc0038I Pass  85: suminf.    0.95736 (2) obj. -13.689 iterations 2\n",
      "Cbc0038I Pass  86: suminf.    0.45782 (4) obj. -13.689 iterations 22\n",
      "Cbc0038I Pass  87: suminf.    0.45782 (4) obj. -13.689 iterations 0\n",
      "Cbc0038I Pass  88: suminf.    0.85934 (2) obj. -13.689 iterations 9\n",
      "Cbc0038I Pass  89: suminf.    0.76257 (2) obj. -13.689 iterations 2\n",
      "Cbc0038I No solution found this major pass\n",
      "Cbc0038I Before mini branch and bound, 22 integers at bound fixed and 0 continuous\n",
      "Cbc0038I Full problem 6 rows 68 columns, reduced to 6 rows 46 columns\n",
      "Cbc0038I Mini branch and bound improved solution from -9.45479 to -16.1244 (0.03 seconds)\n",
      "Cbc0038I Round again with cutoff of -18.3577\n",
      "Cbc0038I Pass  89: suminf.    0.20895 (2) obj. -18.3577 iterations 1\n",
      "Cbc0038I Pass  90: suminf.    0.33677 (2) obj. -18.3577 iterations 2\n",
      "Cbc0038I Pass  91: suminf.    0.85908 (3) obj. -18.3577 iterations 13\n",
      "Cbc0038I Pass  92: suminf.    0.85908 (3) obj. -18.3577 iterations 0\n",
      "Cbc0038I Pass  93: suminf.    0.72255 (2) obj. -18.3577 iterations 2\n",
      "Cbc0038I Pass  94: suminf.    0.67982 (2) obj. -18.3577 iterations 2\n",
      "Cbc0038I Pass  95: suminf.    0.96166 (3) obj. -18.3577 iterations 9\n",
      "Cbc0038I Pass  96: suminf.    0.96166 (3) obj. -18.3577 iterations 0\n",
      "Cbc0038I Pass  97: suminf.    0.37557 (2) obj. -18.3577 iterations 3\n",
      "Cbc0038I Pass  98: suminf.    0.36164 (2) obj. -18.3577 iterations 2\n",
      "Cbc0038I Pass  99: suminf.    0.96460 (3) obj. -18.3577 iterations 15\n",
      "Cbc0038I Pass 100: suminf.    0.42625 (2) obj. -18.3577 iterations 2\n",
      "Cbc0038I Pass 101: suminf.    0.43197 (2) obj. -18.3577 iterations 2\n",
      "Cbc0038I Pass 102: suminf.    0.57693 (3) obj. -18.3577 iterations 7\n",
      "Cbc0038I Pass 103: suminf.    0.52391 (3) obj. -18.3577 iterations 1\n",
      "Cbc0038I Pass 104: suminf.    0.53933 (3) obj. -18.3577 iterations 3\n",
      "Cbc0038I Pass 105: suminf.    0.50070 (3) obj. -18.3577 iterations 2\n",
      "Cbc0038I Pass 106: suminf.    0.53694 (3) obj. -18.3577 iterations 3\n",
      "Cbc0038I Pass 107: suminf.    0.53009 (3) obj. -18.3577 iterations 2\n",
      "Cbc0038I Pass 108: suminf.    0.30838 (2) obj. -18.3577 iterations 5\n",
      "Cbc0038I Pass 109: suminf.    0.30838 (2) obj. -18.3577 iterations 0\n",
      "Cbc0038I Pass 110: suminf.    0.73535 (3) obj. -18.3577 iterations 3\n",
      "Cbc0038I Pass 111: suminf.    0.71583 (4) obj. -18.3577 iterations 1\n",
      "Cbc0038I Pass 112: suminf.    0.30838 (2) obj. -18.3577 iterations 5\n",
      "Cbc0038I Pass 113: suminf.    0.92796 (3) obj. -18.3577 iterations 14\n",
      "Cbc0038I Pass 114: suminf.    0.49502 (2) obj. -18.3577 iterations 3\n",
      "Cbc0038I Pass 115: suminf.    1.12237 (3) obj. -18.3577 iterations 2\n",
      "Cbc0038I Pass 116: suminf.    1.24956 (3) obj. -18.3577 iterations 12\n",
      "Cbc0038I Pass 117: suminf.    0.90239 (2) obj. -18.3577 iterations 2\n",
      "Cbc0038I Pass 118: suminf.    0.97961 (3) obj. -18.3577 iterations 2\n",
      "Cbc0038I No solution found this major pass\n",
      "Cbc0038I Before mini branch and bound, 30 integers at bound fixed and 1 continuous\n",
      "Cbc0038I Full problem 6 rows 68 columns, reduced to 6 rows 37 columns\n",
      "Cbc0038I Mini branch and bound did not improve solution (0.04 seconds)\n",
      "Cbc0038I After 0.04 seconds - Feasibility pump exiting with objective of -16.1244 - took 0.04 seconds\n",
      "Cbc0012I Integer solution of -16.124356 found by feasibility pump after 0 iterations and 0 nodes (0.04 seconds)\n",
      "Cbc0038I Full problem 6 rows 68 columns, reduced to 6 rows 12 columns\n",
      "Cbc0031I 7 added rows had average density of 66.571429\n",
      "Cbc0013I At root node, 7 cuts changed objective from -23.568896 to -23.444621 in 100 passes\n",
      "Cbc0014I Cut generator 0 (Probing) - 1 row cuts average 30.0 elements, 0 column cuts (0 active)  in 0.006 seconds - new frequency is -100\n",
      "Cbc0014I Cut generator 1 (Gomory) - 573 row cuts average 67.9 elements, 0 column cuts (0 active)  in 0.004 seconds - new frequency is -100\n",
      "Cbc0014I Cut generator 2 (Knapsack) - 0 row cuts average 0.0 elements, 0 column cuts (0 active)  in 0.003 seconds - new frequency is -100\n",
      "Cbc0014I Cut generator 3 (Clique) - 0 row cuts average 0.0 elements, 0 column cuts (0 active)  in 0.000 seconds - new frequency is -100\n",
      "Cbc0014I Cut generator 4 (MixedIntegerRounding2) - 1232 row cuts average 44.9 elements, 0 column cuts (0 active)  in 0.022 seconds - new frequency is 1\n",
      "Cbc0014I Cut generator 5 (FlowCover) - 0 row cuts average 0.0 elements, 0 column cuts (0 active)  in 0.005 seconds - new frequency is -100\n",
      "Cbc0014I Cut generator 6 (TwoMirCuts) - 319 row cuts average 45.8 elements, 0 column cuts (0 active)  in 0.005 seconds - new frequency is -100\n",
      "Cbc0010I After 0 nodes, 1 on tree, -16.124356 best solution, best possible -23.444621 (0.13 seconds)\n",
      "Cbc0038I Full problem 6 rows 68 columns, reduced to 6 rows 21 columns\n",
      "Cbc0038I Full problem 6 rows 68 columns, reduced to 6 rows 19 columns\n",
      "Cbc0038I Full problem 6 rows 68 columns, reduced to 6 rows 21 columns\n",
      "Cbc0038I Full problem 6 rows 68 columns, reduced to 6 rows 23 columns\n",
      "Cbc0038I Full problem 6 rows 68 columns, reduced to 6 rows 19 columns\n",
      "Cbc0016I Integer solution of -18.104225 found by strong branching after 7774 iterations and 500 nodes (0.39 seconds)\n",
      "Cbc0016I Integer solution of -22.196958 found by strong branching after 7774 iterations and 502 nodes (0.40 seconds)\n",
      "Cbc0038I Full problem 6 rows 68 columns, reduced to 6 rows 14 columns\n",
      "Cbc0038I Full problem 6 rows 68 columns, reduced to 5 rows 11 columns\n",
      "Cbc0038I Full problem 6 rows 68 columns, reduced to 5 rows 12 columns\n",
      "Cbc0016I Integer solution of -22.393819 found by strong branching after 10669 iterations and 887 nodes (0.77 seconds)\n",
      "Cbc0038I Full problem 6 rows 68 columns, reduced to 6 rows 13 columns\n",
      "Cbc0010I After 1000 nodes, 12 on tree, -22.393819 best solution, best possible -23.444621 (0.84 seconds)\n",
      "Cbc0038I Full problem 6 rows 68 columns, reduced to 6 rows 14 columns\n",
      "Cbc0010I After 2000 nodes, 6 on tree, -22.393819 best solution, best possible -23.444621 (1.22 seconds)\n",
      "Cbc0016I Integer solution of -22.780024 found by strong branching after 25912 iterations and 2693 nodes (1.48 seconds)\n",
      "Cbc0010I After 3000 nodes, 3 on tree, -22.780024 best solution, best possible -23.444621 (1.54 seconds)\n",
      "Cbc0038I Full problem 6 rows 68 columns, reduced to 6 rows 13 columns\n",
      "Cbc0038I Full problem 6 rows 68 columns, reduced to 6 rows 14 columns\n",
      "Cbc0010I After 4000 nodes, 6 on tree, -22.780024 best solution, best possible -23.303934 (1.73 seconds)\n",
      "Cbc0038I Full problem 6 rows 68 columns, reduced to 6 rows 11 columns\n",
      "Cbc0001I Search completed - best objective -22.78002448667599, took 293770 iterations and 92598 nodes (1.80 seconds)\n",
      "Cbc0032I Strong branching done 14242 times (52394 iterations), fathomed 154 nodes and fixed 512 variables\n",
      "Cbc0041I Maximum depth 31, 9763 variables fixed on reduced cost (complete fathoming 1020 times, 88167 nodes taking 255462 iterations)\n",
      "Cuts at root node changed objective from -23.5689 to -23.4446\n",
      "Probing was tried 100 times and created 1 cuts of which 0 were active after adding rounds of cuts (0.006 seconds)\n",
      "Gomory was tried 100 times and created 573 cuts of which 0 were active after adding rounds of cuts (0.004 seconds)\n",
      "Knapsack was tried 100 times and created 0 cuts of which 0 were active after adding rounds of cuts (0.003 seconds)\n",
      "Clique was tried 100 times and created 0 cuts of which 0 were active after adding rounds of cuts (0.000 seconds)\n",
      "MixedIntegerRounding2 was tried 4731 times and created 32019 cuts of which 0 were active after adding rounds of cuts (0.363 seconds)\n",
      "FlowCover was tried 100 times and created 0 cuts of which 0 were active after adding rounds of cuts (0.005 seconds)\n",
      "TwoMirCuts was tried 100 times and created 319 cuts of which 0 were active after adding rounds of cuts (0.005 seconds)\n",
      "ZeroHalf was tried 1 times and created 0 cuts of which 0 were active after adding rounds of cuts (0.000 seconds)\n",
      "\n",
      "Result - Optimal solution found\n",
      "\n",
      "Objective value:                22.78002449\n",
      "Enumerated nodes:               92598\n",
      "Total iterations:               293770\n",
      "Time (CPU seconds):             1.79\n",
      "Time (Wallclock seconds):       1.81\n",
      "\n",
      "Option for printingOptions changed from normal to all\n",
      "Total time (CPU seconds):       1.79   (Wallclock seconds):       1.81\n",
      "\n"
     ]
    }
   ],
   "source": [
    "theta = 0.1    #Weight For Socioeconomic Diversity\n",
    "epsilon = 0.1  #Weight for Ethnic Diversity \n",
    "delta = 300    #Threshold for Max Difference in Number of Students Between Attendance Zones\n",
    "\n",
    "total_students = training_data['Number of Applicants'].sum()\n",
    "\n",
    "prob = LpProblem(\"Balanced_Attendance_Areas\", LpMaximize)\n",
    "\n",
    "x = {i: LpVariable(f\"x_{i}\", cat=\"Binary\") for i in range(len(training_data))}\n",
    "\n",
    "D_A = lpSum([x[i] * training_data.loc[i, 'diversity'] * training_data.loc[i, 'Total: (Population Race P8 Census 2020.csv)'] for i in range(len(training_data))])\n",
    "D_B = lpSum([(1 - x[i]) * training_data.loc[i, 'diversity'] * training_data.loc[i, 'Total: (Population Race P8 Census 2020.csv)'] for i in range(len(training_data))])\n",
    "\n",
    "I_A = lpSum([x[i] * training_data.loc[i, 'Median HH Income'] * training_data.loc[i, 'Number of Applicants'] for i in range(len(training_data))])\n",
    "I_B = lpSum([(1 - x[i]) * training_data.loc[i, 'Median HH Income'] * training_data.loc[i, 'Number of Applicants'] for i in range(len(training_data))])\n",
    "\n",
    "z_diversity = LpVariable(\"z_diversity\", lowBound=0)\n",
    "z_income = LpVariable(\"z_income\", lowBound=0)\n",
    "prob += z_diversity >= D_A - D_B  \n",
    "prob += z_diversity >= D_B - D_A\n",
    "prob += z_income >= I_A - I_B  \n",
    "prob += z_income >= I_B - I_A\n",
    "\n",
    "S_A = lpSum([x[i] * training_data.loc[i, 'Number of Applicants'] for i in range(len(training_data))])\n",
    "S_B = total_students - S_A\n",
    "z_students = LpVariable(\"z_students\", lowBound=0)\n",
    "prob += z_students >= S_A - S_B\n",
    "prob += z_students >= S_B - S_A\n",
    "prob += z_students <= delta\n",
    "\n",
    "distance_term = lpSum([-x[i] * training_data.loc[i, 'distance'] for i in range(len(training_data))])\n",
    "prob += distance_term - (epsilon * z_diversity) - (theta * z_income)\n",
    "prob.solve()\n",
    "\n",
    "webster_blocks['assigned_to_webster'] = [x[i].varValue for i in range(len(training_data))]"
   ]
  },
  {
   "cell_type": "code",
   "execution_count": 61,
   "metadata": {},
   "outputs": [],
   "source": [
    "webster = webster_blocks[webster_blocks['assigned_to_webster'] == 1.0]\n",
    "mission = webster_blocks[webster_blocks['assigned_to_webster'] == 0.0]\n",
    "\n",
    "def provide_summary():\n",
    "    demographic_attributes = ['Total:!!American Indian and Alaska Native alone',\n",
    "       'Total:!!Asian alone', 'Total:!!Black or African American alone',\n",
    "       'Total:!!Native Hawaiian and Other Pacific Islander alone',\n",
    "       'Total:!!White alone', 'Total:!!Two or More Races',\n",
    "       'Total:!!Some Other Race alone']\n",
    "    webster_population = webster['Total: (Population Race P3 Census 2020.csv)'].sum()\n",
    "    mission_population = mission['Total: (Population Race P3 Census 2020.csv)'].sum()\n",
    "    webster_demographics = {f\"Percent {dem.split(\"!!\")[1].split(' alone')[0]}\":webster[dem].sum()/webster_population for dem in demographic_attributes}\n",
    "    mission_demographics = {f\"Percent {dem.split(\"!!\")[1].split(' alone')[0]}\":mission[dem].sum()/mission_population for dem in demographic_attributes}\n",
    "    return webster_demographics, mission_demographics\n",
    "\n",
    "webster_demographics, mission_demographics = provide_summary()"
   ]
  },
  {
   "cell_type": "code",
   "execution_count": 62,
   "metadata": {},
   "outputs": [
    {
     "name": "stdout",
     "output_type": "stream",
     "text": [
      "{'Percent American Indian and Alaska Native': 0.008122497269748816, 'Percent Asian': 0.3114761558063342, 'Percent Black or African American': 0.07751638150709865, 'Percent Native Hawaiian and Other Pacific Islander': 0.006074808882417182, 'Percent White': 0.4192300691663633, 'Percent Two or More Races': 0.10497815799053513, 'Percent Some Other Race': 0.07260192937750273}\n",
      "{'Percent American Indian and Alaska Native': 0.008090302367003584, 'Percent Asian': 0.40063091482649843, 'Percent Black or African American': 0.06040902165282517, 'Percent Native Hawaiian and Other Pacific Islander': 0.0020601300457091356, 'Percent White': 0.38631730294641514, 'Percent Two or More Races': 0.08470138844181206, 'Percent Some Other Race': 0.05779093971973648}\n"
     ]
    }
   ],
   "source": [
    "print(webster_demographics)\n",
    "print(mission_demographics)"
   ]
  },
  {
   "cell_type": "code",
   "execution_count": 63,
   "metadata": {},
   "outputs": [
    {
     "name": "stdout",
     "output_type": "stream",
     "text": [
      "142432.91717325227\n",
      "144785.69885433713\n"
     ]
    }
   ],
   "source": [
    "print(webster['Median HH Income'].mean())\n",
    "print(mission['Median HH Income'].mean())"
   ]
  },
  {
   "cell_type": "code",
   "execution_count": 64,
   "metadata": {},
   "outputs": [
    {
     "name": "stdout",
     "output_type": "stream",
     "text": [
      "1848\n",
      "1911\n"
     ]
    }
   ],
   "source": [
    "print(webster['Number of Applicants'].sum())\n",
    "print(mission['Number of Applicants'].sum())"
   ]
  },
  {
   "cell_type": "code",
   "execution_count": 50,
   "metadata": {},
   "outputs": [
    {
     "data": {
      "image/png": "[encoded data removed]",
      "text/plain": [
       "<Figure size 1000x1000 with 1 Axes>"
      ]
     },
     "metadata": {},
     "output_type": "display_data"
    }
   ],
   "source": [
    "gdf = gpd.read_file(\"tl_2024_06_bg/tl_2024_06_bg.shp\")\n",
    "gdf = gdf.merge(webster_blocks[['GEOID', 'assigned_to_webster']], on='GEOID', how='left')\n",
    "gdf['color'] = gdf['assigned_to_webster'].map({1: '#FFA500', 0: '#9B30FF'})\n",
    "gdf.dropna(subset=['assigned_to_webster'], inplace=True)\n",
    "fig, ax = plt.subplots(figsize=(10, 10))\n",
    "gdf.plot(ax=ax, color=gdf['color'], legend=True)\n",
    "ax.set_title(\"New Attendance Area Zones\", fontsize=16)\n",
    "plt.savefig('Attendance Area Map')"
   ]
  }
 ],
 "metadata": {
  "colab": {
   "authorship_tag": "ABX9TyM6s7hKooUR0q+X6gUySJJ4",
   "provenance": []
  },
  "kernelspec": {
   "display_name": ".venv",
   "language": "python",
   "name": "python3"
  },
  "language_info": {
   "codemirror_mode": {
    "name": "ipython",
    "version": 3
   },
   "file_extension": ".py",
   "mimetype": "text/x-python",
   "name": "python",
   "nbconvert_exporter": "python",
   "pygments_lexer": "ipython3",
   "version": "3.12.5"
  }
 },
 "nbformat": 4,
 "nbformat_minor": 0
}
